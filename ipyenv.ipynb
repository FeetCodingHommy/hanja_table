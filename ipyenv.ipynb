{
	"nbformat": 4,
	"nbformat_minor": 0,
	"metadata": {
		"colab": {
			"name": "ipyenv.ipynb",
			"provenance": [],
			"collapsed_sections": [],
			"authorship_tag": "ABX9TyNjYdWVpL4kxOKCYNux6Zea"
		},
		"kernelspec": {
			"name": "python3",
			"display_name": "Python 3"
		},
		"language_info": {
			"name": "python"
		}
	},
	"cells": [
		{
			"cell_type": "markdown",
			"metadata": {
				"id": "UQg4FJI-ztuv"
			},
			"source": [
				"[![Open In Colab](https://colab.research.google.com/assets/colab-badge.svg)](https://colab.research.google.com/github/FeetCodingHommy/hanja_table/blob/master/ipyenv.ipynb)"
			]
		},
		{
			"cell_type": "code",
			"metadata": {
				"id": "m3USz_ktzNVR"
			},
			"source": [
				"!git clone https://github.com/FeetCodingHommy/hanja_table.git"
			],
			"execution_count": null,
			"outputs": []
		}
	]
}